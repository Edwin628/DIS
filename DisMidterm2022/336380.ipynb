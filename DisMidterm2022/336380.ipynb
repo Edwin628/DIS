{
 "cells": [
  {
   "cell_type": "markdown",
   "metadata": {},
   "source": [
    "# 📘 DIS Midterm - Fall 2022\n",
    "\n",
    "**🎉 Welcome to DIS Midterm that takes place on the 27th of Octomber 2022 from 12:15 to 13:00.**\n",
    "\n",
    "> Please fill the following info:\n",
    "> - Your Name: Aibin Yu\n",
    "> - Your SCIPER: 336380"
   ]
  },
  {
   "cell_type": "markdown",
   "metadata": {},
   "source": [
    "### 💡 THE BACKSTORY\n",
    "\n",
    "You are an engineer working in the sports news articles website: _allaboutsports.ch_ . The editors' team of this news portal wants to create a piece for the upcoming Summer Olympic Games for the swimming Olympic medalist Katie Ledecky. To do so, they want to collect information not only from the news coverage but also from what is being said about her on social media. Therefore, you are using the Twitter data that have have the hashtag of _#allaboutsportsch_ news portal to find relevant to the athlete tweets that will help the editors.\n",
    "\n",
    "\n",
    "### 🐦 THE DATA\n",
    "\n",
    "The collected tweets are stored into the `allaboutsports_tweets.csv` which contains the following columns:\n",
    "\n",
    "| Column     | Description                   |\n",
    "|------------|-------------------------------|\n",
    "| **id**     | The id of the tweet           |\n",
    "| **tweet**  | The text/content of the tweet |\n",
    "| **relevant**  | Gold labels for retrieval model evaluation in Part 5 |\n",
    "\n",
    "\n",
    "### ✅ THE TASK\n",
    "\n",
    "Build a retrieval system that searches the tweets and retrieve the ones that talk about Katie Ledecky.\n",
    "\n",
    "You will test a Vector Space retrieval model and a Probabilistic model, and you will compare their results & performance."
   ]
  },
  {
   "cell_type": "markdown",
   "metadata": {},
   "source": [
    "## Answer all the parts of the midterm:\n",
    "\n",
    "- [PART 0: Rename your notebook with your SciperNo](#part0)\n",
    "\n",
    "- [PART 1: Parse and understand the data](#part1)\n",
    "    - 1.1 Create the vocabulary of the documents/tweets\n",
    "    - 1.2 Print the 5 most frequent words present in the tweets\n",
    "\n",
    "- [PART 2: Encode documents with Vector Space Retrieval](#part2)\n",
    "    - 2.1 Build the document-frequency matrix.\n",
    "    - 2.2 Build the inverse document-frequency matrix\n",
    "    - 2.3 Vectorize input with Vector Space Model\n",
    "    \n",
    "- [PART 3: Encode documents with Probabilistic Retrieval](#part3)\n",
    "    - 3.1 Compute collection probabilities for each document\n",
    "    - 3.2 Implement query-document likelohood\n",
    "\n",
    "- [PART 4: Retrieve documents](#part4)\n",
    "    - 4.1 Retrieve documents with Vector Space Retrieval \n",
    "    - 4.2 Retrieve documents with Probabilistic retrieval\n",
    "\n",
    "- [PART 5: Evaluate your retrieval system](#part5)\n",
    "    - 5.1 Discuss the precision and recall between the Vector Space and Probabilistic Retrieval\n",
    "    - 5.2 Explain the role of k in retrieval performance\n",
    "    - 5.3 Explain the role of lambda in the Probabilistic retrieval performance"
   ]
  },
  {
   "cell_type": "markdown",
   "metadata": {},
   "source": [
    "# 🍀 GOOD LUCK 🍀"
   ]
  },
  {
   "cell_type": "markdown",
   "metadata": {},
   "source": [
    "<a id='part0'></a>\n",
    "## PART 0: Rename your notebook with your SciperNo\n",
    "\n",
    "The final sumbitted file should have the following name: `SciperNo.ipynb`"
   ]
  },
  {
   "cell_type": "markdown",
   "metadata": {},
   "source": [
    "<a id='part1'></a>\n",
    "## PART 1: Parse and understand the data"
   ]
  },
  {
   "cell_type": "code",
   "execution_count": 1,
   "metadata": {},
   "outputs": [
    {
     "name": "stderr",
     "output_type": "stream",
     "text": [
      "[nltk_data] Downloading package stopwords to /Users/aibin/nltk_data...\n",
      "[nltk_data]   Package stopwords is already up-to-date!\n",
      "[nltk_data] Downloading package punkt to /Users/aibin/nltk_data...\n",
      "[nltk_data]   Package punkt is already up-to-date!\n"
     ]
    }
   ],
   "source": [
    "# Import libraries- you can additionally import any library you want.\n",
    "import pandas as pd\n",
    "import numpy as np\n",
    "from collections import Counter\n",
    "import math\n",
    "import string\n",
    "import nltk\n",
    "from nltk.corpus import stopwords\n",
    "from nltk.stem import PorterStemmer, WordNetLemmatizer\n",
    "import matplotlib.pyplot as plt\n",
    "import seaborn as sns\n",
    "import operator\n",
    "from functools import reduce\n",
    "nltk.download('stopwords')\n",
    "nltk.download('punkt')\n",
    "\n",
    "%matplotlib inline"
   ]
  },
  {
   "cell_type": "code",
   "execution_count": 2,
   "metadata": {},
   "outputs": [],
   "source": [
    "# Utility functions - Nothing to change here.\n",
    "stemmer = PorterStemmer()\n",
    "def tokenize(text):\n",
    "    text = \"\".join([ch for ch in text if ch not in string.punctuation])\n",
    "    tokens = nltk.word_tokenize(text)\n",
    "    return [word.lower() for word in tokens if word not in stopwords.words('english')]\n",
    "\n",
    "def preprocess_text(documents):\n",
    "    docs = list()\n",
    "    for doc in documents:\n",
    "        docs.append(tokenize(doc))  # tokenize\n",
    "    return docs"
   ]
  },
  {
   "cell_type": "code",
   "execution_count": 3,
   "metadata": {
    "tags": []
   },
   "outputs": [
    {
     "data": {
      "text/plain": [
       "50"
      ]
     },
     "execution_count": 3,
     "metadata": {},
     "output_type": "execute_result"
    }
   ],
   "source": [
    "# Read the data\n",
    "tweets = pd.read_csv('allaboutsports_tweets.csv')\n",
    "\n",
    "# Clean the data\n",
    "tweets['clean_tweet'] = preprocess_text(tweets['tweet'].tolist())\n",
    "len(tweets)"
   ]
  },
  {
   "cell_type": "code",
   "execution_count": 7,
   "metadata": {
    "collapsed": true,
    "jupyter": {
     "outputs_hidden": true
    },
    "tags": []
   },
   "outputs": [
    {
     "data": {
      "text/plain": [
       "[['omg', 'katie', 'ledecky', 'best', 'athlete', 'allaboutsportsch'],\n",
       " ['great',\n",
       "  'performance',\n",
       "  'one',\n",
       "  'katie',\n",
       "  'ledecky',\n",
       "  'allaboutsportsch',\n",
       "  'katieledecky'],\n",
       " ['katie',\n",
       "  'ledecky',\n",
       "  'gives',\n",
       "  'support',\n",
       "  'simone',\n",
       "  'biles',\n",
       "  'prioritizing',\n",
       "  'mental',\n",
       "  'health',\n",
       "  'profession',\n",
       "  'allaboutsportsch'],\n",
       " ['is',\n",
       "  'katie',\n",
       "  'ledecky',\n",
       "  'competing',\n",
       "  '2024',\n",
       "  'paris',\n",
       "  'olympics',\n",
       "  'allaboutsportsch'],\n",
       " ['superstar',\n",
       "  'swimmer',\n",
       "  'katie',\n",
       "  'ledecky',\n",
       "  'receives',\n",
       "  'athletes',\n",
       "  'hope',\n",
       "  'community',\n",
       "  'hero',\n",
       "  'award',\n",
       "  'congrats',\n",
       "  'katie',\n",
       "  'allaboutsportsch'],\n",
       " ['who', 'womens', 'swimming', 'goat', 'katie', 'ledecky', 'allaboutsportsch'],\n",
       " ['amazing',\n",
       "  'interview',\n",
       "  'athlete',\n",
       "  'roger',\n",
       "  'federer',\n",
       "  'allaboutsportsch',\n",
       "  'retirement',\n",
       "  'future',\n",
       "  'plans'],\n",
       " ['over',\n",
       "  '45000',\n",
       "  'volunteers',\n",
       "  'expected',\n",
       "  'participate',\n",
       "  'paris',\n",
       "  '2024',\n",
       "  'olympic',\n",
       "  'paralympic',\n",
       "  'games',\n",
       "  'allaboutsportsch'],\n",
       " ['paris',\n",
       "  '2024',\n",
       "  'marathon',\n",
       "  'route',\n",
       "  'revealed',\n",
       "  'a',\n",
       "  'challenging',\n",
       "  'race',\n",
       "  'history',\n",
       "  'incredible',\n",
       "  'monuments',\n",
       "  'allaboutsportsch'],\n",
       " ['paris',\n",
       "  '2024',\n",
       "  'unveils',\n",
       "  'key',\n",
       "  'dates',\n",
       "  'olympic',\n",
       "  'games',\n",
       "  'ticketing',\n",
       "  'read',\n",
       "  'allaboutsportsch'],\n",
       " ['please',\n",
       "  'allaboutsportsch',\n",
       "  'write',\n",
       "  'maria',\n",
       "  'sakkari',\n",
       "  'she',\n",
       "  'promising',\n",
       "  'tennis',\n",
       "  'player',\n",
       "  'tour'],\n",
       " ['armand',\n",
       "  'duplantis',\n",
       "  'miltos',\n",
       "  'tentoglou',\n",
       "  'side',\n",
       "  'side',\n",
       "  'mens',\n",
       "  'european',\n",
       "  'athlete',\n",
       "  'year',\n",
       "  'finalists',\n",
       "  'allaboutsportsch'],\n",
       " ['read', 'legacy', 'roger', 'federer', 'allaboutsportsch'],\n",
       " ['you',\n",
       "  'eat',\n",
       "  'what',\n",
       "  'behind',\n",
       "  'high',\n",
       "  'peak',\n",
       "  'athletic',\n",
       "  'performance',\n",
       "  'read',\n",
       "  'allaboutsportsch'],\n",
       " ['read', 'live', 'latest', 'tennis', 'rivalries', 'allaboutsportsch'],\n",
       " ['the',\n",
       "  'unbeaten',\n",
       "  'teams',\n",
       "  'across',\n",
       "  'competitions',\n",
       "  'season',\n",
       "  'europe',\n",
       "  '’',\n",
       "  'top',\n",
       "  'five',\n",
       "  'leagues',\n",
       "  'psg',\n",
       "  'napoli',\n",
       "  'allaboutsportsch'],\n",
       " ['arsenal',\n",
       "  'hunt',\n",
       "  'premier',\n",
       "  'league',\n",
       "  'glory',\n",
       "  'season',\n",
       "  'allaboutsportsch'],\n",
       " ['world',\n",
       "  'no194',\n",
       "  'stan',\n",
       "  'wawrinka',\n",
       "  'beats',\n",
       "  'world',\n",
       "  'no3',\n",
       "  'casper',\n",
       "  'ruud',\n",
       "  'reach',\n",
       "  '2nd',\n",
       "  'round',\n",
       "  'basel',\n",
       "  'stans',\n",
       "  'still',\n",
       "  'got',\n",
       "  'tennis',\n",
       "  'allaboutsportsch'],\n",
       " ['erling',\n",
       "  'haaland',\n",
       "  'kept',\n",
       "  'quiet',\n",
       "  'mahrez',\n",
       "  'misses',\n",
       "  'penalty',\n",
       "  'borussia',\n",
       "  'dortmund',\n",
       "  'go',\n",
       "  'allaboutsportsch'],\n",
       " ['messi',\n",
       "  'neymar',\n",
       "  'mbappe',\n",
       "  'putting',\n",
       "  'show',\n",
       "  'tonight',\n",
       "  'allaboutsportsch'],\n",
       " ['iga',\n",
       "  'swiatek',\n",
       "  'fourth',\n",
       "  'woman',\n",
       "  'go',\n",
       "  '30',\n",
       "  'weeks',\n",
       "  'world',\n",
       "  'no1',\n",
       "  'first',\n",
       "  'reaching',\n",
       "  'summit',\n",
       "  'tennis',\n",
       "  'allaboutsportsch'],\n",
       " ['we',\n",
       "  'know',\n",
       "  'youre',\n",
       "  'arsenal',\n",
       "  'fan',\n",
       "  'andy',\n",
       "  'murray',\n",
       "  'didnt',\n",
       "  'roger',\n",
       "  'federer',\n",
       "  'like',\n",
       "  'tennis',\n",
       "  'allaboutsportsch'],\n",
       " ['in',\n",
       "  'rio',\n",
       "  '2016',\n",
       "  'simone',\n",
       "  'manuel',\n",
       "  'became',\n",
       "  'first',\n",
       "  'black',\n",
       "  'american',\n",
       "  'woman',\n",
       "  'win',\n",
       "  'individual',\n",
       "  'swimming',\n",
       "  'gold',\n",
       "  'olympics',\n",
       "  'so',\n",
       "  'athletic',\n",
       "  'prowess',\n",
       "  'opportunities',\n",
       "  'allaboutsportsch'],\n",
       " ['in',\n",
       "  'second',\n",
       "  'series',\n",
       "  'elite',\n",
       "  'sa',\n",
       "  'athletes',\n",
       "  'striving',\n",
       "  'carry',\n",
       "  'flag',\n",
       "  '2024',\n",
       "  'olympics',\n",
       "  'team',\n",
       "  'sa',\n",
       "  'looks',\n",
       "  'swimming',\n",
       "  'star',\n",
       "  'tatjana',\n",
       "  'schoenmaker',\n",
       "  'allaboutsportsch'],\n",
       " ['karim',\n",
       "  'benzemas',\n",
       "  'boyhood',\n",
       "  'dreams',\n",
       "  'came',\n",
       "  'true',\n",
       "  'ballon',\n",
       "  'dor',\n",
       "  'win',\n",
       "  'allaboutsportsch'],\n",
       " ['andy',\n",
       "  'murray',\n",
       "  'letting',\n",
       "  'roger',\n",
       "  'federer',\n",
       "  'know',\n",
       "  'greatest',\n",
       "  'swiss',\n",
       "  'sportsman',\n",
       "  'allaboutsportsch'],\n",
       " ['a',\n",
       "  '17yearold',\n",
       "  'roger',\n",
       "  'federer',\n",
       "  'pinups',\n",
       "  'jordan',\n",
       "  'pamela',\n",
       "  'anderson',\n",
       "  'macedonian',\n",
       "  'flag',\n",
       "  'bedroom',\n",
       "  'basel',\n",
       "  'allaboutsportsch'],\n",
       " ['from',\n",
       "  'roger',\n",
       "  'rafa',\n",
       "  'one',\n",
       "  'month',\n",
       "  'ago',\n",
       "  'today',\n",
       "  'roger',\n",
       "  'federer',\n",
       "  'played',\n",
       "  'last',\n",
       "  'professional',\n",
       "  'tennis',\n",
       "  'match',\n",
       "  'laver',\n",
       "  'cup',\n",
       "  'gave',\n",
       "  'rafael',\n",
       "  'nadal',\n",
       "  'special',\n",
       "  'shirt',\n",
       "  'you',\n",
       "  '’',\n",
       "  'soon',\n",
       "  'able',\n",
       "  'see',\n",
       "  'rafa',\n",
       "  'nadal',\n",
       "  'museum',\n",
       "  'allaboutsportsch'],\n",
       " ['djokovic',\n",
       "  'defeated',\n",
       "  'nadal',\n",
       "  'andor',\n",
       "  'federer',\n",
       "  'way',\n",
       "  '41',\n",
       "  '90',\n",
       "  'titles',\n",
       "  'nearly',\n",
       "  'half',\n",
       "  'total',\n",
       "  'allaboutsportsch'],\n",
       " ['roger',\n",
       "  'federer',\n",
       "  '17',\n",
       "  'years',\n",
       "  'old',\n",
       "  'shows',\n",
       "  'magic',\n",
       "  'video',\n",
       "  'allaboutsportsch'],\n",
       " ['not',\n",
       "  'bbc',\n",
       "  'wants',\n",
       "  'hire',\n",
       "  'roger',\n",
       "  'federer',\n",
       "  'expert',\n",
       "  'srf',\n",
       "  'also',\n",
       "  'interested',\n",
       "  'bidding',\n",
       "  'srfevery',\n",
       "  'tv',\n",
       "  'station',\n",
       "  'world',\n",
       "  'would',\n",
       "  'delighted',\n",
       "  'federer',\n",
       "  'tennis',\n",
       "  'expert',\n",
       "  'us',\n",
       "  'switzerlands',\n",
       "  'public',\n",
       "  'service',\n",
       "  'medium',\n",
       "  'course',\n",
       "  'thats',\n",
       "  'especially',\n",
       "  'true',\n",
       "  'allaboutsportsch'],\n",
       " ['uniqlo',\n",
       "  'host',\n",
       "  'lifewear',\n",
       "  'day',\n",
       "  'tokyo',\n",
       "  '2022',\n",
       "  'roger',\n",
       "  'federer',\n",
       "  'november',\n",
       "  '19th',\n",
       "  'we',\n",
       "  'keep',\n",
       "  'posted',\n",
       "  'event',\n",
       "  'account',\n",
       "  'allaboutsportsch'],\n",
       " ['andy',\n",
       "  'murray',\n",
       "  'i',\n",
       "  'big',\n",
       "  'arsenal',\n",
       "  'fan',\n",
       "  'i',\n",
       "  'know',\n",
       "  'granit',\n",
       "  'xhaka',\n",
       "  'basel',\n",
       "  'when',\n",
       "  'i',\n",
       "  'landed',\n",
       "  'i',\n",
       "  'texted',\n",
       "  'federer',\n",
       "  'writing',\n",
       "  'i',\n",
       "  'touched',\n",
       "  'city',\n",
       "  'one',\n",
       "  'greatest',\n",
       "  'athletes',\n",
       "  'ever',\n",
       "  'granit',\n",
       "  'xhaka',\n",
       "  'allaboutsportsch'],\n",
       " ['when',\n",
       "  'shot',\n",
       "  'incredible',\n",
       "  'even',\n",
       "  'line',\n",
       "  'judge',\n",
       "  'visibly',\n",
       "  'gasps',\n",
       "  'amazement',\n",
       "  'from',\n",
       "  'wimbledon',\n",
       "  '2008',\n",
       "  'roger',\n",
       "  'federer',\n",
       "  'nadal',\n",
       "  'final',\n",
       "  'allaboutsportsch'],\n",
       " ['andy',\n",
       "  'murray',\n",
       "  'shares',\n",
       "  'hilarious',\n",
       "  'granit',\n",
       "  'xhaka',\n",
       "  'message',\n",
       "  'sent',\n",
       "  'roger',\n",
       "  'federer',\n",
       "  'allaboutsportsch'],\n",
       " ['the',\n",
       "  'ultimate',\n",
       "  'roger',\n",
       "  'federer',\n",
       "  'retirement',\n",
       "  'tribute',\n",
       "  'collection',\n",
       "  'click',\n",
       "  'link',\n",
       "  'read',\n",
       "  'allaboutsportsch'],\n",
       " ['behind',\n",
       "  'raw',\n",
       "  'photo',\n",
       "  'roger',\n",
       "  'federer',\n",
       "  'rafael',\n",
       "  'nadal',\n",
       "  'captures',\n",
       "  'enduring',\n",
       "  'friendship',\n",
       "  'allaboutsportsch'],\n",
       " ['roger',\n",
       "  'federer',\n",
       "  'serena',\n",
       "  'williams',\n",
       "  'retirements',\n",
       "  'leave',\n",
       "  'void',\n",
       "  'adoring',\n",
       "  'fans',\n",
       "  'allaboutsportsch'],\n",
       " ['federer',\n",
       "  'reacts',\n",
       "  'kohlis',\n",
       "  'video',\n",
       "  'message',\n",
       "  'instagram',\n",
       "  'reveals',\n",
       "  'huge',\n",
       "  '‘',\n",
       "  'india',\n",
       "  '’',\n",
       "  'wish',\n",
       "  'allaboutsportsch'],\n",
       " ['rafa',\n",
       "  'nadal',\n",
       "  'return',\n",
       "  'paris',\n",
       "  'masters',\n",
       "  'according',\n",
       "  'coach',\n",
       "  'allaboutsportsch'],\n",
       " ['rafael',\n",
       "  'nadals',\n",
       "  'season',\n",
       "  'isnt',\n",
       "  'according',\n",
       "  'coach',\n",
       "  'carlos',\n",
       "  'moya',\n",
       "  'says',\n",
       "  'spaniard',\n",
       "  'plans',\n",
       "  'play',\n",
       "  'paris',\n",
       "  'masters',\n",
       "  'atp',\n",
       "  'finals',\n",
       "  'turin',\n",
       "  'allaboutsportsch'],\n",
       " ['top',\n",
       "  'facts',\n",
       "  'gangwon',\n",
       "  '2024',\n",
       "  'winter',\n",
       "  'youth',\n",
       "  'olympic',\n",
       "  'games',\n",
       "  'allaboutsportsch'],\n",
       " ['olympic',\n",
       "  'officials',\n",
       "  'talk',\n",
       "  '10',\n",
       "  'bidders',\n",
       "  '2036',\n",
       "  'summer',\n",
       "  'games',\n",
       "  'allaboutsportsch'],\n",
       " ['weird',\n",
       "  'olympic',\n",
       "  'sports',\n",
       "  'an',\n",
       "  'alltime',\n",
       "  'list',\n",
       "  'weird',\n",
       "  'sports',\n",
       "  'history',\n",
       "  'olympics',\n",
       "  'read',\n",
       "  'allaboutsportsch'],\n",
       " ['olympic',\n",
       "  'athlete',\n",
       "  'medallists',\n",
       "  'set',\n",
       "  'bring',\n",
       "  'alist',\n",
       "  'star',\n",
       "  'power',\n",
       "  'abu',\n",
       "  'dhabi',\n",
       "  'finals',\n",
       "  'allaboutsportsch'],\n",
       " ['they',\n",
       "  'questions',\n",
       "  'international',\n",
       "  'sports',\n",
       "  'go',\n",
       "  'away',\n",
       "  'should',\n",
       "  'russian',\n",
       "  'belarusian',\n",
       "  'athletes',\n",
       "  'allowed',\n",
       "  'compete',\n",
       "  'if',\n",
       "  'long',\n",
       "  'remain',\n",
       "  'sporting',\n",
       "  'siberia',\n",
       "  'allaboutsportsch'],\n",
       " ['paris',\n",
       "  '2024',\n",
       "  'all',\n",
       "  'indian',\n",
       "  'athletes',\n",
       "  'qualify',\n",
       "  'olympics',\n",
       "  'allaboutsportsch'],\n",
       " ['the',\n",
       "  'international',\n",
       "  'olympic',\n",
       "  'committee',\n",
       "  'ioc',\n",
       "  'suspended',\n",
       "  'guatemala',\n",
       "  'olympic',\n",
       "  'committee',\n",
       "  'amid',\n",
       "  'domestic',\n",
       "  'legal',\n",
       "  'dispute',\n",
       "  'allaboutsportsch'],\n",
       " ['swimming',\n",
       "  'one',\n",
       "  'oldest',\n",
       "  'olympic',\n",
       "  'sports',\n",
       "  'featured',\n",
       "  'every',\n",
       "  'modern',\n",
       "  'olympic',\n",
       "  'games',\n",
       "  'since',\n",
       "  'athens',\n",
       "  '1896',\n",
       "  'the',\n",
       "  'paris',\n",
       "  '2024',\n",
       "  'swimming',\n",
       "  'competition',\n",
       "  'see',\n",
       "  '852',\n",
       "  'athletes',\n",
       "  'vying',\n",
       "  'medals',\n",
       "  'paris',\n",
       "  'la',\n",
       "  'défense',\n",
       "  'arena',\n",
       "  'allaboutsportsch'],\n",
       " ['athletes',\n",
       "  'matthew',\n",
       "  'sates',\n",
       "  'siobhan',\n",
       "  'haughey',\n",
       "  'chad',\n",
       "  'le',\n",
       "  'clos',\n",
       "  'back',\n",
       "  'like',\n",
       "  'never',\n",
       "  'left',\n",
       "  'opening',\n",
       "  'day',\n",
       "  'fina',\n",
       "  'swimming',\n",
       "  'world',\n",
       "  'cup',\n",
       "  'allaboutsportsch']]"
      ]
     },
     "execution_count": 7,
     "metadata": {},
     "output_type": "execute_result"
    }
   ],
   "source": [
    "tweets['clean_tweet'].tolist()"
   ]
  },
  {
   "cell_type": "markdown",
   "metadata": {},
   "source": [
    "> #### 1.1 Create the vocabulary of the documents/tweets."
   ]
  },
  {
   "cell_type": "code",
   "execution_count": 5,
   "metadata": {},
   "outputs": [],
   "source": [
    "def get_vocabulary_frequency(documents):\n",
    "    \"\"\"\n",
    "    It parses the input documents and creates a dictionary with the terms and term frequencies.\n",
    "    \n",
    "    INPUT:\n",
    "    Doc1: hello hello world\n",
    "    Doc2: hello friend\n",
    "    \n",
    "    OUTPUT:\n",
    "    {'hello': 3,\n",
    "    'world': 1,\n",
    "    'friend': 1}\n",
    "\n",
    "    :param documents: list of list of str, with the tokenized tweets.\n",
    "    :return: dict, with keys the words and values the frequency of each word.\n",
    "    \"\"\"\n",
    "    vocabulary = dict()\n",
    "    # --------------\n",
    "    # YOUR CODE HERE\n",
    "    for document in documents:\n",
    "        for term in document:\n",
    "            if term in vocabulary:\n",
    "                vocabulary[term] += 1\n",
    "            else:\n",
    "                vocabulary[term] = 1\n",
    "\n",
    "    # --------------\n",
    "    return vocabulary"
   ]
  },
  {
   "cell_type": "code",
   "execution_count": 6,
   "metadata": {},
   "outputs": [
    {
     "data": {
      "text/plain": [
       "412"
      ]
     },
     "execution_count": 6,
     "metadata": {},
     "output_type": "execute_result"
    }
   ],
   "source": [
    "voc = get_vocabulary_frequency(tweets['clean_tweet'].tolist())\n",
    "len(voc)"
   ]
  },
  {
   "cell_type": "markdown",
   "metadata": {},
   "source": [
    "> #### 1.2 Print the 5 most frequent words present in the tweets.\n",
    "> Use the vocabulary frequencies you created in the previous question to find the top-5 words/terms."
   ]
  },
  {
   "cell_type": "code",
   "execution_count": 14,
   "metadata": {},
   "outputs": [
    {
     "name": "stdout",
     "output_type": "stream",
     "text": [
      "allaboutsportsch\n",
      "federer\n",
      "roger\n",
      "olympic\n",
      "paris\n"
     ]
    }
   ],
   "source": [
    "# --------------\n",
    "# YOUR CODE HERE\n",
    "voc_sorted = sorted(voc.items(), key=lambda item: item[1], reverse=True)\n",
    "for i in range(5):\n",
    "    print(voc_sorted[i][0])\n",
    "# --------------"
   ]
  },
  {
   "cell_type": "markdown",
   "metadata": {},
   "source": [
    "<a id='part2'></a>\n",
    "## PART 2: Encode documents with Vector Space Retrieval\n",
    "\n",
    "In this part we will encode/vectorize the documents using the **Vector Space Model**. \n",
    "More specifically:\n",
    "- we will compute the term-frequency matrix **(tf)**\n",
    "- we will compute the inverse document frequency **(idf)**\n",
    "- we will vectorize/encode the tweets with **tf-idf**\n",
    "- we will implement the **cosine similarity**"
   ]
  },
  {
   "cell_type": "markdown",
   "metadata": {},
   "source": [
    "> #### 2.1 Build the term-frequency matrix"
   ]
  },
  {
   "cell_type": "code",
   "execution_count": 17,
   "metadata": {},
   "outputs": [],
   "source": [
    "def get_tf(documents, vocabulary):\n",
    "    \"\"\"\n",
    "    It creates the term-frequency matrix with rows the terms of the vocabulary and columns the number of documents.\n",
    "    Each value of the matrix represents the frequency (normalized to document max frequecy) of a term (row) \n",
    "    in a document (column).\n",
    "    \n",
    "    Example:\n",
    "    \n",
    "    > INPUT:\n",
    "    documents:\n",
    "    Doc1: hello hello world\n",
    "    Doc2: hello friend\n",
    "    \n",
    "    voc: \n",
    "    [hello, world, friend]\n",
    "    \n",
    "    > OUPUT:    \n",
    "    [[1, 1],\n",
    "    [0.5, 0],\n",
    "    [0, 1]]\n",
    "    \n",
    "    :param documents: list of list of str, with the tokenized tweets.\n",
    "    :param vocabulary: dict with the vocabulary (computed in 1.1) and each term's frequency.\n",
    "    :return: np.array with the document-term frequencies\n",
    "    \"\"\"\n",
    "    document_term_freq = np.zeros(shape=(len(vocabulary), len(documents)))\n",
    "    # --------------\n",
    "    # YOUR CODE HERE\n",
    "    for j, document in enumerate(documents):\n",
    "        counter = Counter(document)\n",
    "        for i, word in enumerate(vocabulary):\n",
    "            if word in counter:\n",
    "                document_term_freq[i,j] = counter[word]\n",
    "    # --------------\n",
    "    return document_term_freq"
   ]
  },
  {
   "cell_type": "code",
   "execution_count": 18,
   "metadata": {},
   "outputs": [
    {
     "data": {
      "text/plain": [
       "(412, 50)"
      ]
     },
     "execution_count": 18,
     "metadata": {},
     "output_type": "execute_result"
    }
   ],
   "source": [
    "tf = get_tf(tweets['clean_tweet'].tolist(), voc)\n",
    "tf.shape"
   ]
  },
  {
   "cell_type": "markdown",
   "metadata": {},
   "source": [
    "> #### 2.2 Build the inverse document-frequency matrix (idf)"
   ]
  },
  {
   "cell_type": "code",
   "execution_count": 19,
   "metadata": {},
   "outputs": [],
   "source": [
    "def get_idf(documents, vocabulary):\n",
    "    \"\"\"\n",
    "    It computes IDF scores, storing idf values in a dictionary.\n",
    "    \n",
    "    :param documents: list of list of str, with the tokenized tweets.\n",
    "    :param vocabulary: dict with the vocabulary (computed in 1.1) and each term's frequency.\n",
    "    :return: dict with the terms as keys and values the idf for each term.\n",
    "    \"\"\"\n",
    "    idf = dict()\n",
    "    # --------------\n",
    "    # YOUR CODE HERE\n",
    "    num_documents = len(documents)\n",
    "    for i, term in enumerate(vocabulary):\n",
    "        idf[term] = math.log(num_documents/sum(term in document for document in documents), math.e)\n",
    "    # --------------\n",
    "    return idf"
   ]
  },
  {
   "cell_type": "code",
   "execution_count": 20,
   "metadata": {},
   "outputs": [
    {
     "data": {
      "text/plain": [
       "412"
      ]
     },
     "execution_count": 20,
     "metadata": {},
     "output_type": "execute_result"
    }
   ],
   "source": [
    "idf = get_idf(tweets['clean_tweet'].tolist(), voc)\n",
    "len(idf)"
   ]
  },
  {
   "cell_type": "code",
   "execution_count": 21,
   "metadata": {},
   "outputs": [
    {
     "data": {
      "text/plain": [
       "2.120263536200091"
      ]
     },
     "execution_count": 21,
     "metadata": {},
     "output_type": "execute_result"
    }
   ],
   "source": [
    "idf['katie']"
   ]
  },
  {
   "cell_type": "markdown",
   "metadata": {},
   "source": [
    "#### Vectorization of input with the Vector Space Model"
   ]
  },
  {
   "cell_type": "code",
   "execution_count": 22,
   "metadata": {},
   "outputs": [],
   "source": [
    "def vectorize_vsr(document, vocabulary, idf):\n",
    "    \"\"\"\n",
    "    It takes the input text and vectorizes it based on the tf-idf formula.\n",
    "    \n",
    "    :param document: list of str, with the tokenized tweet\n",
    "    :param vocabulary: dict, with the vocabulary (computed in 1.1) and each term's frequency.\n",
    "    :param idf: dict, with the terms as keys and values the idf for each term.\n",
    "    :return: np.array, with the vectorized tweet\n",
    "    \"\"\"\n",
    "    vector = np.zeros(len(vocabulary))\n",
    "    term_freq = Counter(document)\n",
    "    max_freq = term_freq.most_common(1)[0][1]\n",
    "    for i, term in enumerate(vocabulary):\n",
    "        vector[i] = idf[term] * term_freq[term]/max_freq\n",
    "    return vector"
   ]
  },
  {
   "cell_type": "code",
   "execution_count": 23,
   "metadata": {},
   "outputs": [
    {
     "data": {
      "text/plain": [
       "(50, 412)"
      ]
     },
     "execution_count": 23,
     "metadata": {},
     "output_type": "execute_result"
    }
   ],
   "source": [
    "vectorized_documents = np.array([vectorize_vsr(doc, voc, idf) for doc in tweets['clean_tweet'].tolist()])\n",
    "vectorized_documents.shape"
   ]
  },
  {
   "cell_type": "markdown",
   "metadata": {},
   "source": [
    "#### Cosine similarity for Vector Space Retrieval "
   ]
  },
  {
   "cell_type": "code",
   "execution_count": 24,
   "metadata": {},
   "outputs": [],
   "source": [
    "def cosine_similarity(v1,v2):\n",
    "    \"\"\"\n",
    "    It computes cosine similarity.\n",
    "    \n",
    "    :param v1: list of floats, with the vector of a document.\n",
    "    :param v2: list of floats, with the vector of a document.\n",
    "    :return: float\n",
    "    \"\"\"\n",
    "    sumxx, sumxy, sumyy = 0, 0, 0\n",
    "    for i in range(len(v1)):\n",
    "        x = v1[i]; y = v2[i]\n",
    "        sumxx += x*x\n",
    "        sumyy += y*y\n",
    "        sumxy += x*y\n",
    "    if sumxy == 0:\n",
    "        sim = 0\n",
    "    else:\n",
    "        sim = sumxy/math.sqrt(sumxx*sumyy)\n",
    "    return sim"
   ]
  },
  {
   "cell_type": "markdown",
   "metadata": {},
   "source": [
    "<a id='part3'></a>\n",
    "## PART 3: Encode documents with Probabilistic Retrieval\n",
    "\n",
    "In this part we will encode/vectorize the documents using the **Probabilistic Model**. \n",
    "More specifically:\n",
    "- we will compute the collection probabilities for each term **($P(t|M_c)$)**\n",
    "- we will copute the query-document likelihood **$P(t_i|document)$** for each query term $t_i$"
   ]
  },
  {
   "cell_type": "markdown",
   "metadata": {},
   "source": [
    "> #### 3.1 Compute collection probabilities $P(t|M_c$) for each document"
   ]
  },
  {
   "cell_type": "code",
   "execution_count": 31,
   "metadata": {},
   "outputs": [],
   "source": [
    "def get_collection_prob(vocabulary):\n",
    "    \"\"\"\n",
    "    Computes the collection probabilities of each term present in the documents/tweets.\n",
    "    \n",
    "    :param vocabulary: dict with the vocabulary (computed in 1.1) and each term's frequency.\n",
    "    :return: dict with the collection probabilities for each term in the vocabulary.\n",
    "    \"\"\"\n",
    "    probs = dict()\n",
    "    # --------------\n",
    "    # YOUR CODE HERE\n",
    "    term_all = 0\n",
    "    for x in vocabulary.items():\n",
    "        term_all += x[1] \n",
    "    \n",
    "    for x in vocabulary.items():\n",
    "        probs[x[0]] = x[1]/term_all\n",
    "\n",
    "    # --------------\n",
    "    return probs"
   ]
  },
  {
   "cell_type": "code",
   "execution_count": 32,
   "metadata": {},
   "outputs": [
    {
     "data": {
      "text/plain": [
       "412"
      ]
     },
     "execution_count": 32,
     "metadata": {},
     "output_type": "execute_result"
    }
   ],
   "source": [
    "p_Mc = get_collection_prob(voc)\n",
    "len(p_Mc)"
   ]
  },
  {
   "cell_type": "markdown",
   "metadata": {},
   "source": [
    "> #### 3.2 Implement query-document likelihood $P(q|doc)$"
   ]
  },
  {
   "cell_type": "code",
   "execution_count": null,
   "metadata": {},
   "outputs": [],
   "source": [
    "def compute_query_likelihood(query, document, p_Mc, l):\n",
    "    \"\"\"\n",
    "    It computes the probability of a query given a document/tweet.\n",
    "    \n",
    "    :param query: np.array with the tokenized query\n",
    "    :param document: np.array with the tokenized document\n",
    "    :param p_Mc: dict with the collection probabilities for each term in the vocabulary.\n",
    "    :param l: float, smoothing variable lambda.    \n",
    "    :return: float with the query-document likelihood\n",
    "    \"\"\"\n",
    "\n",
    "    # --------------\n",
    "    # YOUR CODE HERE\n",
    "    for term in query:\n",
    "        if term in document:\n",
    "            prob = l * p_Mc[term]\n",
    "\n",
    "    # --------------\n",
    "    return prob\n"
   ]
  },
  {
   "cell_type": "markdown",
   "metadata": {},
   "source": [
    "<a id='part4'></a>\n",
    "## PART 4: Retrieve documents\n",
    "\n",
    "In this part, we will apply both **Vector Space Retrieval** and **Probabilistic retrieval** in order to get the relevant tweets to Katie Ledecky athlete. \n",
    "\n",
    "> There is nothing to implement in this part, however, you should run the following cells and test your implementation in Parts 2&3."
   ]
  },
  {
   "cell_type": "code",
   "execution_count": 35,
   "metadata": {},
   "outputs": [],
   "source": [
    "query = [\"katie\",\"ledecky\",\"athlete\"]\n",
    "doc_ids = tweets['id'].tolist()"
   ]
  },
  {
   "cell_type": "markdown",
   "metadata": {},
   "source": [
    "#### Retrieves with Vector Space Retrieval for `query = \"Katie Ledecky\"` and prints the top 10 relevant documents"
   ]
  },
  {
   "cell_type": "code",
   "execution_count": 36,
   "metadata": {},
   "outputs": [],
   "source": [
    "# vectorize query and tweets\n",
    "vectorized_documents_vsr =  np.array([vectorize_vsr(doc, voc, idf) for doc in tweets['clean_tweet'].tolist()])\n",
    "vectorized_query_vsr = np.array(vectorize_vsr(query, voc, idf))\n",
    "\n",
    "# performs vector space retrieval\n",
    "scores = dict()\n",
    "for idx, doc_vec in zip(doc_ids, vectorized_documents_vsr):\n",
    "    scores[idx] = cosine_similarity(doc_vec, vectorized_query_vsr)"
   ]
  },
  {
   "cell_type": "code",
   "execution_count": 37,
   "metadata": {},
   "outputs": [
    {
     "data": {
      "text/html": [
       "<div>\n",
       "<style scoped>\n",
       "    .dataframe tbody tr th:only-of-type {\n",
       "        vertical-align: middle;\n",
       "    }\n",
       "\n",
       "    .dataframe tbody tr th {\n",
       "        vertical-align: top;\n",
       "    }\n",
       "\n",
       "    .dataframe thead th {\n",
       "        text-align: right;\n",
       "    }\n",
       "</style>\n",
       "<table border=\"1\" class=\"dataframe\">\n",
       "  <thead>\n",
       "    <tr style=\"text-align: right;\">\n",
       "      <th></th>\n",
       "      <th>id</th>\n",
       "      <th>score</th>\n",
       "    </tr>\n",
       "  </thead>\n",
       "  <tbody>\n",
       "    <tr>\n",
       "      <th>0</th>\n",
       "      <td>1</td>\n",
       "      <td>0.578184</td>\n",
       "    </tr>\n",
       "    <tr>\n",
       "      <th>1</th>\n",
       "      <td>4</td>\n",
       "      <td>0.319205</td>\n",
       "    </tr>\n",
       "    <tr>\n",
       "      <th>2</th>\n",
       "      <td>2</td>\n",
       "      <td>0.305536</td>\n",
       "    </tr>\n",
       "    <tr>\n",
       "      <th>3</th>\n",
       "      <td>6</td>\n",
       "      <td>0.295565</td>\n",
       "    </tr>\n",
       "    <tr>\n",
       "      <th>4</th>\n",
       "      <td>5</td>\n",
       "      <td>0.282030</td>\n",
       "    </tr>\n",
       "    <tr>\n",
       "      <th>5</th>\n",
       "      <td>3</td>\n",
       "      <td>0.203919</td>\n",
       "    </tr>\n",
       "    <tr>\n",
       "      <th>6</th>\n",
       "      <td>7</td>\n",
       "      <td>0.186898</td>\n",
       "    </tr>\n",
       "    <tr>\n",
       "      <th>7</th>\n",
       "      <td>45</td>\n",
       "      <td>0.138721</td>\n",
       "    </tr>\n",
       "    <tr>\n",
       "      <th>8</th>\n",
       "      <td>12</td>\n",
       "      <td>0.118039</td>\n",
       "    </tr>\n",
       "    <tr>\n",
       "      <th>9</th>\n",
       "      <td>50</td>\n",
       "      <td>0.000000</td>\n",
       "    </tr>\n",
       "  </tbody>\n",
       "</table>\n",
       "</div>"
      ],
      "text/plain": [
       "   id     score\n",
       "0   1  0.578184\n",
       "1   4  0.319205\n",
       "2   2  0.305536\n",
       "3   6  0.295565\n",
       "4   5  0.282030\n",
       "5   3  0.203919\n",
       "6   7  0.186898\n",
       "7  45  0.138721\n",
       "8  12  0.118039\n",
       "9  50  0.000000"
      ]
     },
     "execution_count": 37,
     "metadata": {},
     "output_type": "execute_result"
    }
   ],
   "source": [
    "# Print top 5 retrieved tweets\n",
    "retrieved_tweets_vsr = pd.DataFrame(list(reversed(sorted(scores.items(), key=lambda item: item[1]))),\n",
    "                                    columns=['id', 'score'])\n",
    "retrieved_tweets_vsr[:10]"
   ]
  },
  {
   "cell_type": "markdown",
   "metadata": {},
   "source": [
    "#### Retrieve with Probabilistic Retrieval for `query = \"Katie Ledecky\"` and prints the top 10 relevant along with their probability (score)."
   ]
  },
  {
   "cell_type": "code",
   "execution_count": 38,
   "metadata": {},
   "outputs": [
    {
     "ename": "NameError",
     "evalue": "name 'compute_query_likelihood' is not defined",
     "output_type": "error",
     "traceback": [
      "\u001b[0;31m---------------------------------------------------------------------------\u001b[0m",
      "\u001b[0;31mNameError\u001b[0m                                 Traceback (most recent call last)",
      "\u001b[0;32m/var/folders/qh/45t3t2ws29984shqtr0d7wgh0000gn/T/ipykernel_24712/1714937207.py\u001b[0m in \u001b[0;36m<module>\u001b[0;34m\u001b[0m\n\u001b[1;32m      2\u001b[0m \u001b[0mprobs\u001b[0m \u001b[0;34m=\u001b[0m \u001b[0mdict\u001b[0m\u001b[0;34m(\u001b[0m\u001b[0;34m)\u001b[0m\u001b[0;34m\u001b[0m\u001b[0;34m\u001b[0m\u001b[0m\n\u001b[1;32m      3\u001b[0m \u001b[0;32mfor\u001b[0m \u001b[0midx\u001b[0m\u001b[0;34m,\u001b[0m \u001b[0mdoc\u001b[0m \u001b[0;32min\u001b[0m \u001b[0mzip\u001b[0m\u001b[0;34m(\u001b[0m\u001b[0mdoc_ids\u001b[0m\u001b[0;34m,\u001b[0m \u001b[0mtweets\u001b[0m\u001b[0;34m[\u001b[0m\u001b[0;34m'clean_tweet'\u001b[0m\u001b[0;34m]\u001b[0m\u001b[0;34m.\u001b[0m\u001b[0mtolist\u001b[0m\u001b[0;34m(\u001b[0m\u001b[0;34m)\u001b[0m\u001b[0;34m)\u001b[0m\u001b[0;34m:\u001b[0m\u001b[0;34m\u001b[0m\u001b[0;34m\u001b[0m\u001b[0m\n\u001b[0;32m----> 4\u001b[0;31m     \u001b[0mprobs\u001b[0m\u001b[0;34m[\u001b[0m\u001b[0midx\u001b[0m\u001b[0;34m]\u001b[0m \u001b[0;34m=\u001b[0m \u001b[0mcompute_query_likelihood\u001b[0m\u001b[0;34m(\u001b[0m\u001b[0mquery\u001b[0m\u001b[0;34m,\u001b[0m \u001b[0mdoc\u001b[0m\u001b[0;34m,\u001b[0m  \u001b[0mp_Mc\u001b[0m\u001b[0;34m,\u001b[0m \u001b[0;36m0.25\u001b[0m\u001b[0;34m)\u001b[0m\u001b[0;34m\u001b[0m\u001b[0;34m\u001b[0m\u001b[0m\n\u001b[0m",
      "\u001b[0;31mNameError\u001b[0m: name 'compute_query_likelihood' is not defined"
     ]
    }
   ],
   "source": [
    "# performs probabilistic retrieval\n",
    "probs = dict()\n",
    "for idx, doc in zip(doc_ids, tweets['clean_tweet'].tolist()):\n",
    "    probs[idx] = compute_query_likelihood(query, doc,  p_Mc, 0.25)"
   ]
  },
  {
   "cell_type": "code",
   "execution_count": null,
   "metadata": {},
   "outputs": [],
   "source": [
    "# Print top 5 retrieved tweets\n",
    "retrieved_tweets_prob = pd.DataFrame(list(reversed(sorted(probs.items(), key=lambda item: item[1]))),\n",
    "                                     columns=['id', 'score'])\n",
    "retrieved_tweets_prob[:10]            "
   ]
  },
  {
   "cell_type": "markdown",
   "metadata": {},
   "source": [
    "<a id='part5'></a>\n",
    "## PART 5: Evaluate retrieval\n",
    "\n",
    "In this part, we will evaluate both retrieval systems and discuss the impact of lambda value as well as the number of retrieved documents.\n",
    "\n",
    "We are now going to use the column `'relevant'` in the dataset. It is referring to whether the tweet is relevant to the query or not. We define this column as the 'oracle' that in an ideal scenario knows which tweets are relevant for Katie Ledecky and which are not.\n",
    "Based on this, we will compute the performance of the retrieval systems we built. 🎉"
   ]
  },
  {
   "cell_type": "markdown",
   "metadata": {},
   "source": [
    "#### Precision@k & Recall@k"
   ]
  },
  {
   "cell_type": "code",
   "execution_count": null,
   "metadata": {},
   "outputs": [],
   "source": [
    "def compute_precision_at_k(retrieved_tweets, gt, k=5):\n",
    "    \"\"\"\n",
    "    It computes the precision score at a defined set of retrieved documents (k).\n",
    "    \n",
    "    :param predict: list of predictions\n",
    "    :param gt: list of actual relevant data\n",
    "    :param k: int\n",
    "    :return: float, the precision at a given k\n",
    "    \"\"\"\n",
    "    results = retrieved_tweets.merge(gt, how=\"outer\", on=\"id\")\n",
    "    return np.array(results[:k]['relevant'].tolist()).mean()\n",
    "\n",
    "def compute_recall_at_k(retrieved_tweets, gt, k=5):\n",
    "    \"\"\"\n",
    "    It computes the recall score at a defined set of retrieved documents (k).\n",
    "    \n",
    "    :param predict: list of predictions\n",
    "    :param gt: list of actual relevant data\n",
    "    :param k: int\n",
    "    :return: float, the precision at a given k\n",
    "    \"\"\"\n",
    "    relevant = len(tweets[tweets['relevant']==1])\n",
    "    results = retrieved_tweets.merge(gt, how=\"outer\", on=\"id\")[:k]\n",
    "    hits = len(results[results['relevant']==1])\n",
    "    return hits / relevant"
   ]
  },
  {
   "cell_type": "markdown",
   "metadata": {},
   "source": [
    "> #### 5.1 Discuss the difference in performance between the Vector Space and Probabilistic Retrieval based on the Precision and Recall scores in the provided table."
   ]
  },
  {
   "cell_type": "code",
   "execution_count": null,
   "metadata": {},
   "outputs": [],
   "source": [
    "vsr_precision = compute_precision_at_k(retrieved_tweets_vsr, tweets[['id', 'relevant']], 5)\n",
    "prob_precision = compute_precision_at_k(retrieved_tweets_prob, tweets[['id', 'relevant']], 5)\n",
    "\n",
    "vsr_recall = compute_recall_at_k(retrieved_tweets_vsr, tweets[['id', 'relevant']], 5)\n",
    "prob_recall = compute_recall_at_k(retrieved_tweets_prob, tweets[['id', 'relevant']], 5)\n",
    "\n",
    "pd.DataFrame([('Vector Space Retrieval', vsr_precision, vsr_recall),\n",
    "              ('Probabilistic Retrieval',prob_precision, prob_recall)], \n",
    "             columns=['Model', 'Precision@5', 'Recall@5']).round(3)"
   ]
  },
  {
   "cell_type": "markdown",
   "metadata": {},
   "source": [
    "**➡️ PLEASE WRITE YOUR ANSWER HERE**\n",
    "\n",
    "the vector space model depends on “bags of words” and probabilistic model depends on the probability. The probabilistic model is more as compared to the vector space model."
   ]
  },
  {
   "cell_type": "markdown",
   "metadata": {},
   "source": [
    "> #### 5.2 Discuss the following plot regarding the impact of the $k$ variable in the Precision@k metric."
   ]
  },
  {
   "cell_type": "code",
   "execution_count": null,
   "metadata": {},
   "outputs": [],
   "source": [
    "ks = [1, 5, 10, 15]"
   ]
  },
  {
   "cell_type": "code",
   "execution_count": null,
   "metadata": {},
   "outputs": [],
   "source": [
    "# run Probabilistic Retrieval and evaluate it on different k\n",
    "res = list()\n",
    "for k in ks:\n",
    "    res.append({'Precision': compute_precision_at_k(retrieved_tweets_prob, tweets[['id', 'relevant']], k),\n",
    "                'k': k})\n",
    "res_df = pd.DataFrame(res)\n",
    "sns.relplot(data=res_df, x=\"k\", y=\"Precision\", kind=\"line\").set(title='Precision@k')"
   ]
  },
  {
   "cell_type": "markdown",
   "metadata": {},
   "source": [
    "**➡️ PLEASE WRITE YOUR ANSWER HERE**  \n",
    "Small k may have low recall and bigger K may low precision. So we need to find the balanced k."
   ]
  },
  {
   "cell_type": "markdown",
   "metadata": {},
   "source": [
    "> #### 5.3 Discuss the following plot regarding the impact of the $\\lambda$ (lambda) in the query-document likelihood probability $P(q|Doc)$.\n",
    "\n",
    "In this example we estimate the likehood for a given query and a given tweet (see below). The $P(t|M_c)$ values are the same as in the rest of the notebook and are calculated based on the whole document collection. "
   ]
  },
  {
   "cell_type": "code",
   "execution_count": null,
   "metadata": {},
   "outputs": [],
   "source": [
    "new_query = [\"katie\",\"ledecky\",\"swimmer\"]\n",
    "a_document= tweets['clean_tweet'].tolist()[3]\n",
    "\n",
    "print('The query: \"{}\"\"'.format(' '.join(new_query)))\n",
    "print('Tweet: \"{}\"'.format(tweets['tweet'].tolist()[3]))"
   ]
  },
  {
   "cell_type": "code",
   "execution_count": null,
   "metadata": {},
   "outputs": [],
   "source": [
    "# for each lambda get the query-document likehood estimation.\n",
    "lambdas = [0, 0.25, 0.5, 0.75, 1]\n",
    "probabilities = list()\n",
    "for l in lambdas:\n",
    "    probabilities.append({'Likelihood': compute_query_likelihood(new_query, a_document,  p_Mc, l),\n",
    "                         'lambda': l})\n",
    "\n",
    "res_df = pd.DataFrame(probabilities)\n",
    "print(res_df)\n",
    "sns.relplot(data=res_df, x=\"lambda\", y=\"Likelihood\", \n",
    "            kind=\"line\").set(title='Likelihood of a document on different Lambda values')"
   ]
  },
  {
   "cell_type": "markdown",
   "metadata": {},
   "source": [
    "**➡️ PLEASE WRITE YOUR ANSWER HERE**\n",
    "\n",
    "Parameter lambda is critical and is query independent\n"
   ]
  },
  {
   "cell_type": "markdown",
   "metadata": {},
   "source": [
    "## 🔚 END OF EXAM\n",
    "> Don't forget to change the submitted file with your SciperNo as the file name before submitting."
   ]
  }
 ],
 "metadata": {
  "kernelspec": {
   "display_name": "Python 3 (ipykernel)",
   "language": "python",
   "name": "python3"
  },
  "language_info": {
   "codemirror_mode": {
    "name": "ipython",
    "version": 3
   },
   "file_extension": ".py",
   "mimetype": "text/x-python",
   "name": "python",
   "nbconvert_exporter": "python",
   "pygments_lexer": "ipython3",
   "version": "3.9.7"
  },
  "vscode": {
   "interpreter": {
    "hash": "75fd394e35225182f207b93437350142e41aafd8fa2b11cc1a17258e1fa2f196"
   }
  }
 },
 "nbformat": 4,
 "nbformat_minor": 4
}
