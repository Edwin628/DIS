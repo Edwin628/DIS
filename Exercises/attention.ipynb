{
 "cells": [
  {
   "cell_type": "code",
   "execution_count": 2,
   "metadata": {},
   "outputs": [],
   "source": [
    "import numpy as np"
   ]
  },
  {
   "attachments": {},
   "cell_type": "markdown",
   "metadata": {},
   "source": [
    "### Question1\n",
    "A is 4 * 4 matrix, B is 1 * 4 array, we got 1 * 4 result"
   ]
  },
  {
   "attachments": {},
   "cell_type": "markdown",
   "metadata": {},
   "source": [
    "### Answer\n",
    "Yes, if A is a 4x4 matrix and B is a 1x4 array, performing the matrix multiplication np.matmul(A, B) would result in a 1x4 array. This is because numpy uses broadcasting, allowing the 1x4 array B to be broadcasted to match the shape of the second dimension of the matrix A (4 columns), so that a matrix multiplication can be performed.\n",
    "\n",
    "It's important to note that the number of columns in A must match the number of rows in B in order for the matrix multiplication to be valid. In this case, the number of columns in A is 4, and the number of rows in B is also 4, so the operation can be performed."
   ]
  },
  {
   "cell_type": "code",
   "execution_count": 12,
   "metadata": {},
   "outputs": [
    {
     "name": "stdout",
     "output_type": "stream",
     "text": [
      "(3, 1)\n",
      "(1, 3)\n",
      "(3,)\n",
      "(3,)\n"
     ]
    },
    {
     "data": {
      "text/plain": [
       "array([1, 2, 3])"
      ]
     },
     "execution_count": 12,
     "metadata": {},
     "output_type": "execute_result"
    }
   ],
   "source": [
    "aa = [[1,2],[3,4]]\n",
    "bb =  [1,2]\n",
    "np.dot(aa,bb)\n",
    "np.transpose(np.ones(4))\n",
    "a = np.array([[1], [2], [3]])\n",
    "print(a.shape)\n",
    "a_t = np.transpose(a)\n",
    "print(a_t.shape)\n",
    "a_t\n",
    "\n",
    "b = np.array([1,2,3])\n",
    "print(b.shape)\n",
    "b_t = np.transpose(b)\n",
    "print(b_t.shape)\n",
    "b_t"
   ]
  },
  {
   "cell_type": "code",
   "execution_count": 4,
   "metadata": {},
   "outputs": [
    {
     "name": "stdout",
     "output_type": "stream",
     "text": [
      "[0.9 0.7 0.5 0.4]\n",
      "[[0.9]\n",
      " [0.7]\n",
      " [0.5]\n",
      " [0.4]]\n",
      "[0.3 0.1 0.3 1. ]\n"
     ]
    }
   ],
   "source": [
    "# Brooadcast to array，因为array本身这个就不算矩阵，很模糊\n",
    "AA=np.array([\n",
    "    [0, 1, 1, 1], \n",
    "    [0, 0, 1, 1], \n",
    "    [1, 0, 0, 1],\n",
    "    [0, 0, 0, 1],\n",
    "])\n",
    "aa = [0.1,0.2,0.3,0.4]\n",
    "aaa = [[0.1],[0.2],[0.3],[0.4]]\n",
    "aaaa = [[0.1,0.2,0.3,0.4]]\n",
    "print(np.matmul(AA,aa))\n",
    "print(np.matmul(AA,aaa))\n",
    "print(np.matmul(aa,AA))\n",
    "#print(np.matmul(AA,aaaa)) vaklue error"
   ]
  },
  {
   "attachments": {},
   "cell_type": "markdown",
   "metadata": {},
   "source": [
    "Dot product of two arrays. Specifically,\n",
    "\n",
    "If both a and b are 1-D arrays, it is inner product of vectors (without complex conjugation).\n",
    "\n",
    "If both a and b are 2-D arrays, it is matrix multiplication, but using matmul or a @ b is preferred.\n",
    "\n",
    "If either a or b is 0-D (scalar), it is equivalent to multiply and using numpy.multiply(a, b) or a * b is preferred.\n",
    "\n",
    "If a is an N-D array and b is a 1-D array, it is a sum product over the last axis of a and b.\n",
    "\n",
    "If a is an N-D array and b is an M-D array (where M>=2), it is a sum product over the last axis of a and the second-to-last axis of b:"
   ]
  },
  {
   "attachments": {},
   "cell_type": "markdown",
   "metadata": {},
   "source": [
    "### Question2\n",
    "Array transpose"
   ]
  },
  {
   "cell_type": "code",
   "execution_count": 30,
   "metadata": {},
   "outputs": [
    {
     "name": "stdout",
     "output_type": "stream",
     "text": [
      "(3, 1)\n",
      "(1, 3)\n",
      "(3,)\n",
      "(3,)\n"
     ]
    },
    {
     "data": {
      "text/plain": [
       "array([1, 2, 3])"
      ]
     },
     "execution_count": 30,
     "metadata": {},
     "output_type": "execute_result"
    }
   ],
   "source": [
    "aa = [[1,2],[3,4]]\n",
    "bb =  [1,2]\n",
    "np.dot(aa,bb)\n",
    "np.transpose(np.ones(4))\n",
    "a = np.array([[1], [2], [3]])\n",
    "print(a.shape)\n",
    "a_t = np.transpose(a)\n",
    "print(a_t.shape)\n",
    "a_t\n",
    "\n",
    "b = np.array([1,2,3])\n",
    "print(b.shape)\n",
    "b_t = np.transpose(b)\n",
    "print(b_t.shape)\n",
    "b_t"
   ]
  },
  {
   "attachments": {},
   "cell_type": "markdown",
   "metadata": {},
   "source": [
    "### Question3\n",
    "List Array 的一些操作"
   ]
  },
  {
   "cell_type": "code",
   "execution_count": 34,
   "metadata": {},
   "outputs": [
    {
     "name": "stdout",
     "output_type": "stream",
     "text": [
      "[3, 4]\n",
      "[3, 4]\n",
      "[3 4]\n",
      "[3 4]\n",
      "[3 4]\n",
      "[2]\n"
     ]
    }
   ],
   "source": [
    "aa = [[1,2],[3,4]]\n",
    "\n",
    "print(aa[:][1])\n",
    "print(aa[1])\n",
    "\n",
    "aaa = np.array([[1,2],[3,4]])\n",
    "print(aaa[1])\n",
    "print(aaa[:][1]) # 不会报错，但和上面显示一致\n",
    "print(aaa[:][:][1]) # 不会报错，但和上面显示一致\n",
    "# 说明list是按index从左至右顺序来处理的\n",
    "#print(aaa[:1][1]) # 会报错\n",
    "print(aaa[:1,1]) # 不会报错，实现了切片\n"
   ]
  },
  {
   "attachments": {},
   "cell_type": "markdown",
   "metadata": {},
   "source": [
    "1. multiply是elementwise的操作，等同于 *\n",
    "2. 有多个条件就用while循环\n",
    "3. while记得要给l+1\n",
    "4. tokens是['<pad>','the', '.', ',',]类似列表， text_vocab是{'<pad>':1,'the':2, '.':3, ',':4}这种字典类似\n",
    "5. unqiue返回array\n",
    "6. array 和 matrix的访问, np.matrix和普通的list、array一些不一样: a)L[0][1]不能访问matrix的元素，要用L[0,1]. b)list不能够用L[0,1]只能用L[0][1]. c)array两种都可以用\n",
    "7. nonzero()返回的是一个tuple，要取nonzero()[0]\n",
    "8. test_data_matrix[test_data_matrix.nonzero()] matrix返回的是一个array在这里，所有非零值的index\n",
    "9. In Python, the sorted() function returns a sorted list of elements from an iterable object (e.g. list, tuple, dict, etc.). "
   ]
  },
  {
   "attachments": {},
   "cell_type": "markdown",
   "metadata": {},
   "source": [
    "### Question4\n",
    "axis = 0 和 axis =1\n"
   ]
  },
  {
   "cell_type": "code",
   "execution_count": 36,
   "metadata": {},
   "outputs": [
    {
     "data": {
      "text/plain": [
       "array([3, 6, 9])"
      ]
     },
     "execution_count": 36,
     "metadata": {},
     "output_type": "execute_result"
    }
   ],
   "source": [
    "test_ax = np.array([[1,2,3],[1,2,3],[1,2,3]])\n",
    "test_ax.sum(axis=0)"
   ]
  },
  {
   "cell_type": "code",
   "execution_count": 37,
   "metadata": {},
   "outputs": [
    {
     "data": {
      "text/plain": [
       "array([1, 1, 3])"
      ]
     },
     "execution_count": 37,
     "metadata": {},
     "output_type": "execute_result"
    }
   ],
   "source": [
    "axx = [-1,-1,3]\n",
    "np.abs(axx)"
   ]
  },
  {
   "attachments": {},
   "cell_type": "markdown",
   "metadata": {},
   "source": [
    "### Question5\n",
    "insert(0,'key')的0是代表插入的index位置，与插入的值没有关系"
   ]
  },
  {
   "cell_type": "code",
   "execution_count": 53,
   "metadata": {},
   "outputs": [
    {
     "data": {
      "text/plain": [
       "['gg', 'key']"
      ]
     },
     "execution_count": 53,
     "metadata": {},
     "output_type": "execute_result"
    }
   ],
   "source": [
    "test_insert =[]\n",
    "test_insert.insert(0,'key')\n",
    "test_insert.insert(0,'gg')\n",
    "test_insert"
   ]
  },
  {
   "attachments": {},
   "cell_type": "markdown",
   "metadata": {},
   "source": [
    "### Question6\n",
    "[::-1]去除最后一个元素"
   ]
  },
  {
   "cell_type": "code",
   "execution_count": 54,
   "metadata": {},
   "outputs": [
    {
     "data": {
      "text/plain": [
       "[1, 2, 3]"
      ]
     },
     "execution_count": 54,
     "metadata": {},
     "output_type": "execute_result"
    }
   ],
   "source": [
    "test_slice = [1,2,3,4]\n",
    "test_slice[:-1]"
   ]
  },
  {
   "cell_type": "markdown",
   "metadata": {},
   "source": [
    "### Question7\n",
    "关于正则表达式"
   ]
  },
  {
   "attachments": {},
   "cell_type": "markdown",
   "metadata": {},
   "source": [
    "https://www.zhihu.com/question/48219401"
   ]
  },
  {
   "attachments": {},
   "cell_type": "markdown",
   "metadata": {},
   "source": [
    "n Python programming, \"r\" before a string literal means \"raw string\". Raw strings preserve escape sequences and special characters in their original form and do not interpret them. For example, in a regular string, the escape sequence \"\\\" is used to represent a single backslash, whereas in a raw string, two consecutive backslashes are treated as a single literal backslash. Raw strings are commonly used for regular expressions and file paths."
   ]
  },
  {
   "cell_type": "code",
   "execution_count": 47,
   "metadata": {},
   "outputs": [
    {
     "name": "stdout",
     "output_type": "stream",
     "text": [
      "\\t\n",
      "---------\n",
      "\t\n"
     ]
    }
   ],
   "source": [
    "print(r\"\\t\")\n",
    "print(\"---------\")\n",
    "print(\"\\t\") #display nothing"
   ]
  },
  {
   "cell_type": "markdown",
   "metadata": {},
   "source": [
    " For example, given the string \"aaa\", a greedy match of \"a+\" would match all three characters, whereas a lazy match of \"a+?\" would only match the first character."
   ]
  },
  {
   "cell_type": "code",
   "execution_count": null,
   "metadata": {},
   "outputs": [],
   "source": []
  },
  {
   "attachments": {},
   "cell_type": "markdown",
   "metadata": {},
   "source": [
    "### Question8\n",
    "关于dict的一些遍历操作，包括用sorted时的返回值问题"
   ]
  },
  {
   "cell_type": "code",
   "execution_count": 56,
   "metadata": {},
   "outputs": [
    {
     "name": "stdout",
     "output_type": "stream",
     "text": [
      "fruit 1.0\n",
      "company 0.547120747653\n",
      "apple 0.41334243636\n",
      "orange 0.155466692675\n",
      "food 0.147812587177\n",
      "vegetable 0.132148274312\n",
      "tech company 0.120745147762\n"
     ]
    }
   ],
   "source": [
    "test_dict = {'fruit': 1.0,\n",
    " 'company': 0.547120747653,\n",
    " 'apple': 0.41334243636,\n",
    " 'orange': 0.155466692675,\n",
    " 'food': 0.147812587177,\n",
    " 'vegetable': 0.132148274312,\n",
    " 'tech company': 0.120745147762}\n",
    "\n",
    "for k,v in test_dict.items():\n",
    "    print(k,v)"
   ]
  },
  {
   "cell_type": "code",
   "execution_count": 58,
   "metadata": {},
   "outputs": [
    {
     "name": "stdout",
     "output_type": "stream",
     "text": [
      "['fruit', 'orange', 'apple', 'company', 'food', 'vegetable', 'tech company']\n",
      "[('fruit', 1.0), ('company', 0.547120747653), ('apple', 0.41334243636), ('orange', 0.155466692675), ('food', 0.147812587177), ('vegetable', 0.132148274312), ('tech company', 0.120745147762)]\n"
     ]
    }
   ],
   "source": [
    "print(sorted(test_dict, key = lambda x: x[1], reverse =True))\n",
    "print(sorted(test_dict.items(), key = lambda x: x[1], reverse =True))"
   ]
  },
  {
   "cell_type": "code",
   "execution_count": null,
   "metadata": {},
   "outputs": [],
   "source": []
  }
 ],
 "metadata": {
  "kernelspec": {
   "display_name": "adaexam",
   "language": "python",
   "name": "python3"
  },
  "language_info": {
   "codemirror_mode": {
    "name": "ipython",
    "version": 3
   },
   "file_extension": ".py",
   "mimetype": "text/x-python",
   "name": "python",
   "nbconvert_exporter": "python",
   "pygments_lexer": "ipython3",
   "version": "3.8.12"
  },
  "orig_nbformat": 4,
  "vscode": {
   "interpreter": {
    "hash": "774b128520448664c0ce54185c50d2053e1a9ce2d7add6cdc69ac19bdaf04756"
   }
  }
 },
 "nbformat": 4,
 "nbformat_minor": 2
}
