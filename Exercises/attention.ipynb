{
 "cells": [
  {
   "cell_type": "code",
   "execution_count": 7,
   "metadata": {},
   "outputs": [],
   "source": [
    "import numpy as np"
   ]
  },
  {
   "attachments": {},
   "cell_type": "markdown",
   "metadata": {},
   "source": [
    "### Question1\n",
    "A is 4 * 4 matrix, B is 1 * 4 array, we got 1 * 4 result"
   ]
  },
  {
   "attachments": {},
   "cell_type": "markdown",
   "metadata": {},
   "source": [
    "### Answer\n",
    "Yes, if A is a 4x4 matrix and B is a 1x4 array, performing the matrix multiplication np.matmul(A, B) would result in a 1x4 array. This is because numpy uses broadcasting, allowing the 1x4 array B to be broadcasted to match the shape of the second dimension of the matrix A (4 columns), so that a matrix multiplication can be performed.\n",
    "\n",
    "It's important to note that the number of columns in A must match the number of rows in B in order for the matrix multiplication to be valid. In this case, the number of columns in A is 4, and the number of rows in B is also 4, so the operation can be performed."
   ]
  },
  {
   "cell_type": "code",
   "execution_count": 12,
   "metadata": {},
   "outputs": [
    {
     "name": "stdout",
     "output_type": "stream",
     "text": [
      "(3, 1)\n",
      "(1, 3)\n",
      "(3,)\n",
      "(3,)\n"
     ]
    },
    {
     "data": {
      "text/plain": [
       "array([1, 2, 3])"
      ]
     },
     "execution_count": 12,
     "metadata": {},
     "output_type": "execute_result"
    }
   ],
   "source": [
    "aa = [[1,2],[3,4]]\n",
    "bb =  [1,2]\n",
    "np.dot(aa,bb)\n",
    "np.transpose(np.ones(4))\n",
    "a = np.array([[1], [2], [3]])\n",
    "print(a.shape)\n",
    "a_t = np.transpose(a)\n",
    "print(a_t.shape)\n",
    "a_t\n",
    "\n",
    "b = np.array([1,2,3])\n",
    "print(b.shape)\n",
    "b_t = np.transpose(b)\n",
    "print(b_t.shape)\n",
    "b_t"
   ]
  },
  {
   "cell_type": "code",
   "execution_count": 4,
   "metadata": {},
   "outputs": [
    {
     "name": "stdout",
     "output_type": "stream",
     "text": [
      "[0.9 0.7 0.5 0.4]\n",
      "[[0.9]\n",
      " [0.7]\n",
      " [0.5]\n",
      " [0.4]]\n",
      "[0.3 0.1 0.3 1. ]\n"
     ]
    }
   ],
   "source": [
    "# Brooadcast to array，因为array本身这个就不算矩阵，很模糊\n",
    "AA=np.array([\n",
    "    [0, 1, 1, 1], \n",
    "    [0, 0, 1, 1], \n",
    "    [1, 0, 0, 1],\n",
    "    [0, 0, 0, 1],\n",
    "])\n",
    "aa = [0.1,0.2,0.3,0.4]\n",
    "aaa = [[0.1],[0.2],[0.3],[0.4]]\n",
    "aaaa = [[0.1,0.2,0.3,0.4]]\n",
    "print(np.matmul(AA,aa))\n",
    "print(np.matmul(AA,aaa))\n",
    "print(np.matmul(aa,AA))\n",
    "#print(np.matmul(AA,aaaa)) vaklue error"
   ]
  },
  {
   "attachments": {},
   "cell_type": "markdown",
   "metadata": {},
   "source": [
    "Dot product of two arrays. Specifically,\n",
    "\n",
    "If both a and b are 1-D arrays, it is inner product of vectors (without complex conjugation).\n",
    "\n",
    "If both a and b are 2-D arrays, it is matrix multiplication, but using matmul or a @ b is preferred.\n",
    "\n",
    "If either a or b is 0-D (scalar), it is equivalent to multiply and using numpy.multiply(a, b) or a * b is preferred.\n",
    "\n",
    "If a is an N-D array and b is a 1-D array, it is a sum product over the last axis of a and b.\n",
    "\n",
    "If a is an N-D array and b is an M-D array (where M>=2), it is a sum product over the last axis of a and the second-to-last axis of b:"
   ]
  },
  {
   "attachments": {},
   "cell_type": "markdown",
   "metadata": {},
   "source": [
    "### Question2\n",
    "Array transpose"
   ]
  },
  {
   "cell_type": "code",
   "execution_count": 30,
   "metadata": {},
   "outputs": [
    {
     "name": "stdout",
     "output_type": "stream",
     "text": [
      "(3, 1)\n",
      "(1, 3)\n",
      "(3,)\n",
      "(3,)\n"
     ]
    },
    {
     "data": {
      "text/plain": [
       "array([1, 2, 3])"
      ]
     },
     "execution_count": 30,
     "metadata": {},
     "output_type": "execute_result"
    }
   ],
   "source": [
    "aa = [[1,2],[3,4]]\n",
    "bb =  [1,2]\n",
    "np.dot(aa,bb)\n",
    "np.transpose(np.ones(4))\n",
    "a = np.array([[1], [2], [3]])\n",
    "print(a.shape)\n",
    "a_t = np.transpose(a)\n",
    "print(a_t.shape)\n",
    "a_t\n",
    "\n",
    "b = np.array([1,2,3])\n",
    "print(b.shape)\n",
    "b_t = np.transpose(b)\n",
    "print(b_t.shape)\n",
    "b_t"
   ]
  },
  {
   "attachments": {},
   "cell_type": "markdown",
   "metadata": {},
   "source": [
    "### Question3\n",
    "List Array 的一些操作"
   ]
  },
  {
   "cell_type": "code",
   "execution_count": 34,
   "metadata": {},
   "outputs": [
    {
     "name": "stdout",
     "output_type": "stream",
     "text": [
      "[3, 4]\n",
      "[3, 4]\n",
      "[3 4]\n",
      "[3 4]\n",
      "[3 4]\n",
      "[2]\n"
     ]
    }
   ],
   "source": [
    "aa = [[1,2],[3,4]]\n",
    "\n",
    "print(aa[:][1])\n",
    "print(aa[1])\n",
    "\n",
    "aaa = np.array([[1,2],[3,4]])\n",
    "print(aaa[1])\n",
    "print(aaa[:][1]) # 不会报错，但和上面显示一致\n",
    "print(aaa[:][:][1]) # 不会报错，但和上面显示一致\n",
    "# 说明list是按index从左至右顺序来处理的\n",
    "#print(aaa[:1][1]) # 会报错\n",
    "print(aaa[:1,1]) # 不会报错，实现了切片\n"
   ]
  },
  {
   "attachments": {},
   "cell_type": "markdown",
   "metadata": {},
   "source": [
    "1. multiply是elementwise的操作，等同于 *\n",
    "2. 有多个条件就用while循环\n",
    "3. while记得要给l+1\n",
    "4. tokens是['<pad>','the', '.', ',',]类似列表， text_vocab是{'<pad>':1,'the':2, '.':3, ',':4}这种字典类似\n",
    "5. unqiue返回array\n",
    "6. array 和 matrix的访问, np.matrix和普通的list、array一些不一样: a)L[0][1]不能访问matrix的元素，要用L[0,1]. b)list不能够用L[0,1]只能用L[0][1]. c)array两种都可以用\n",
    "7. nonzero()返回的是一个tuple，要取nonzero()[0]\n",
    "8. test_data_matrix[test_data_matrix.nonzero()] matrix返回的是一个array在这里，所有非零值的index\n",
    "9. In Python, the sorted() function returns a sorted list of elements from an iterable object (e.g. list, tuple, dict, etc.). \n",
    "10. 直接获取index,还可以用argsort\n",
    "11. 如果想reverse,[::-1] shorthand for [len(my_list)-1:0:-1] which means start from the last element, stop at the first element and step backwards by 1.\n",
    "12. list.count(2) 统计list里面有多少个2"
   ]
  },
  {
   "attachments": {},
   "cell_type": "markdown",
   "metadata": {},
   "source": [
    "### Question4\n",
    "axis = 0 和 axis =1\n"
   ]
  },
  {
   "cell_type": "code",
   "execution_count": 36,
   "metadata": {},
   "outputs": [
    {
     "data": {
      "text/plain": [
       "array([3, 6, 9])"
      ]
     },
     "execution_count": 36,
     "metadata": {},
     "output_type": "execute_result"
    }
   ],
   "source": [
    "test_ax = np.array([[1,2,3],[1,2,3],[1,2,3]])\n",
    "test_ax.sum(axis=0)"
   ]
  },
  {
   "cell_type": "code",
   "execution_count": 37,
   "metadata": {},
   "outputs": [
    {
     "data": {
      "text/plain": [
       "array([1, 1, 3])"
      ]
     },
     "execution_count": 37,
     "metadata": {},
     "output_type": "execute_result"
    }
   ],
   "source": [
    "axx = [-1,-1,3]\n",
    "np.abs(axx)"
   ]
  },
  {
   "attachments": {},
   "cell_type": "markdown",
   "metadata": {},
   "source": [
    "### Question5\n",
    "insert(0,'key')的0是代表插入的index位置，与插入的值没有关系"
   ]
  },
  {
   "cell_type": "code",
   "execution_count": 53,
   "metadata": {},
   "outputs": [
    {
     "data": {
      "text/plain": [
       "['gg', 'key']"
      ]
     },
     "execution_count": 53,
     "metadata": {},
     "output_type": "execute_result"
    }
   ],
   "source": [
    "test_insert =[]\n",
    "test_insert.insert(0,'key')\n",
    "test_insert.insert(0,'gg')\n",
    "test_insert"
   ]
  },
  {
   "attachments": {},
   "cell_type": "markdown",
   "metadata": {},
   "source": [
    "### Question6\n",
    "[::-1]去除最后一个元素"
   ]
  },
  {
   "cell_type": "code",
   "execution_count": 54,
   "metadata": {},
   "outputs": [
    {
     "data": {
      "text/plain": [
       "[1, 2, 3]"
      ]
     },
     "execution_count": 54,
     "metadata": {},
     "output_type": "execute_result"
    }
   ],
   "source": [
    "test_slice = [1,2,3,4]\n",
    "test_slice[:-1]"
   ]
  },
  {
   "cell_type": "markdown",
   "metadata": {},
   "source": [
    "### Question7\n",
    "关于正则表达式"
   ]
  },
  {
   "attachments": {},
   "cell_type": "markdown",
   "metadata": {},
   "source": [
    "https://www.zhihu.com/question/48219401"
   ]
  },
  {
   "attachments": {},
   "cell_type": "markdown",
   "metadata": {},
   "source": [
    "n Python programming, \"r\" before a string literal means \"raw string\". Raw strings preserve escape sequences and special characters in their original form and do not interpret them. For example, in a regular string, the escape sequence \"\\\" is used to represent a single backslash, whereas in a raw string, two consecutive backslashes are treated as a single literal backslash. Raw strings are commonly used for regular expressions and file paths."
   ]
  },
  {
   "cell_type": "code",
   "execution_count": 47,
   "metadata": {},
   "outputs": [
    {
     "name": "stdout",
     "output_type": "stream",
     "text": [
      "\\t\n",
      "---------\n",
      "\t\n"
     ]
    }
   ],
   "source": [
    "print(r\"\\t\")\n",
    "print(\"---------\")\n",
    "print(\"\\t\") #display nothing"
   ]
  },
  {
   "cell_type": "markdown",
   "metadata": {},
   "source": [
    " For example, given the string \"aaa\", a greedy match of \"a+\" would match all three characters, whereas a lazy match of \"a+?\" would only match the first character."
   ]
  },
  {
   "cell_type": "code",
   "execution_count": null,
   "metadata": {},
   "outputs": [],
   "source": []
  },
  {
   "attachments": {},
   "cell_type": "markdown",
   "metadata": {},
   "source": [
    "### Question8\n",
    "关于dict的一些遍历操作，包括用sorted时的返回值问题\n",
    "\n",
    "##### 一定要记得加items"
   ]
  },
  {
   "cell_type": "code",
   "execution_count": 56,
   "metadata": {},
   "outputs": [
    {
     "name": "stdout",
     "output_type": "stream",
     "text": [
      "fruit 1.0\n",
      "company 0.547120747653\n",
      "apple 0.41334243636\n",
      "orange 0.155466692675\n",
      "food 0.147812587177\n",
      "vegetable 0.132148274312\n",
      "tech company 0.120745147762\n"
     ]
    }
   ],
   "source": [
    "test_dict = {'fruit': 1.0,\n",
    " 'company': 0.547120747653,\n",
    " 'apple': 0.41334243636,\n",
    " 'orange': 0.155466692675,\n",
    " 'food': 0.147812587177,\n",
    " 'vegetable': 0.132148274312,\n",
    " 'tech company': 0.120745147762}\n",
    "\n",
    "for k,v in test_dict.items():\n",
    "    print(k,v)"
   ]
  },
  {
   "cell_type": "code",
   "execution_count": 58,
   "metadata": {},
   "outputs": [
    {
     "name": "stdout",
     "output_type": "stream",
     "text": [
      "['fruit', 'orange', 'apple', 'company', 'food', 'vegetable', 'tech company']\n",
      "[('fruit', 1.0), ('company', 0.547120747653), ('apple', 0.41334243636), ('orange', 0.155466692675), ('food', 0.147812587177), ('vegetable', 0.132148274312), ('tech company', 0.120745147762)]\n"
     ]
    }
   ],
   "source": [
    "print(sorted(test_dict, key = lambda x: x[1], reverse =True))\n",
    "print(sorted(test_dict.items(), key = lambda x: x[1], reverse =True))"
   ]
  },
  {
   "attachments": {},
   "cell_type": "markdown",
   "metadata": {},
   "source": [
    "### Question9\n",
    "value_counts().rename_axis('article id').reset_index(name='counts')[:5]的操作  \n",
    "reset_index(name = xxxx)一定要有name=才会有命名"
   ]
  },
  {
   "cell_type": "code",
   "execution_count": 1,
   "metadata": {},
   "outputs": [
    {
     "ename": "NameError",
     "evalue": "name 'value_counts' is not defined",
     "output_type": "error",
     "traceback": [
      "\u001b[0;31m---------------------------------------------------------------------------\u001b[0m",
      "\u001b[0;31mNameError\u001b[0m                                 Traceback (most recent call last)",
      "Cell \u001b[0;32mIn[1], line 1\u001b[0m\n\u001b[0;32m----> 1\u001b[0m value_counts()\u001b[39m.\u001b[39mrename_axis(\u001b[39m'\u001b[39m\u001b[39marticle id\u001b[39m\u001b[39m'\u001b[39m)\u001b[39m.\u001b[39mreset_index(name\u001b[39m=\u001b[39m\u001b[39m'\u001b[39m\u001b[39mcounts\u001b[39m\u001b[39m'\u001b[39m)[:\u001b[39m5\u001b[39m]\n",
      "\u001b[0;31mNameError\u001b[0m: name 'value_counts' is not defined"
     ]
    }
   ],
   "source": [
    "value_counts().rename_axis('article id').reset_index(name='counts')[:5]"
   ]
  },
  {
   "attachments": {},
   "cell_type": "markdown",
   "metadata": {},
   "source": [
    "### Question10\n",
    "关于cosine_similarity时reshape的问题  \n",
    "array一定要记得reshape(1,-1) 从[1, 2]变成[[1, 2]]  \n",
    "如果没有y，If None, the output will be the pairwise similarities between all samples in X."
   ]
  },
  {
   "cell_type": "code",
   "execution_count": 23,
   "metadata": {},
   "outputs": [
    {
     "name": "stdout",
     "output_type": "stream",
     "text": [
      "[[1.        ]\n",
      " [0.98386991]]\n",
      "[[1.]]\n",
      "[[1.         0.98386991]\n",
      " [0.98386991 1.        ]]\n"
     ]
    }
   ],
   "source": [
    "from sklearn.metrics.pairwise import cosine_similarity\n",
    "\n",
    "a_matrix =np.array([[1,2],[3,4]])\n",
    "b_vec =np.array([1,2])\n",
    "a_vec = np.array([1,2])\n",
    "# cosine_similarity(a_matrix,a_vec)这个会报错\n",
    "print(cosine_similarity(a_matrix,a_vec.reshape(1, -1)))\n",
    "print(cosine_similarity(b_vec.reshape(1, -1),a_vec.reshape(1, -1)))\n",
    "# cosine_similarity(b_vec,a_vec.reshape(1, -1)) 这个也会报错\n",
    "print(cosine_similarity(a_matrix))"
   ]
  },
  {
   "cell_type": "code",
   "execution_count": 20,
   "metadata": {},
   "outputs": [
    {
     "data": {
      "text/plain": [
       "array([1, 2])"
      ]
     },
     "execution_count": 20,
     "metadata": {},
     "output_type": "execute_result"
    }
   ],
   "source": [
    "a_vec = np.array([1,2])\n",
    "a_vec"
   ]
  },
  {
   "cell_type": "code",
   "execution_count": 21,
   "metadata": {},
   "outputs": [
    {
     "data": {
      "text/plain": [
       "array([[1, 2]])"
      ]
     },
     "execution_count": 21,
     "metadata": {},
     "output_type": "execute_result"
    }
   ],
   "source": [
    "a_vec.reshape(1, -1)"
   ]
  },
  {
   "attachments": {},
   "cell_type": "markdown",
   "metadata": {},
   "source": [
    "### Question11\n",
    "有关argsort的想法哈哈哈"
   ]
  },
  {
   "cell_type": "code",
   "execution_count": 28,
   "metadata": {},
   "outputs": [
    {
     "data": {
      "text/plain": [
       "array([6, 0, 7, 3, 1, 2, 5, 4])"
      ]
     },
     "execution_count": 28,
     "metadata": {},
     "output_type": "execute_result"
    }
   ],
   "source": [
    "index_test = [1,4,5,3,8,5,0,1]\n",
    "np.argsort(index_test)"
   ]
  },
  {
   "cell_type": "code",
   "execution_count": 29,
   "metadata": {},
   "outputs": [
    {
     "data": {
      "text/plain": [
       "2"
      ]
     },
     "execution_count": 29,
     "metadata": {},
     "output_type": "execute_result"
    }
   ],
   "source": [
    "index_test.count(1)"
   ]
  },
  {
   "cell_type": "code",
   "execution_count": null,
   "metadata": {},
   "outputs": [],
   "source": []
  },
  {
   "cell_type": "code",
   "execution_count": null,
   "metadata": {},
   "outputs": [],
   "source": []
  },
  {
   "attachments": {},
   "cell_type": "markdown",
   "metadata": {},
   "source": [
    "1. In the skipgram model the sample data consists of word-context pairs that are present or absent in the document collection.\n",
    "The main difference between Glove and earlier methods, including skipgram and CBOW, is the computation of global co-occurrence counts."
   ]
  },
  {
   "cell_type": "markdown",
   "metadata": {},
   "source": []
  }
 ],
 "metadata": {
  "kernelspec": {
   "display_name": "DIS",
   "language": "python",
   "name": "python3"
  },
  "language_info": {
   "codemirror_mode": {
    "name": "ipython",
    "version": 3
   },
   "file_extension": ".py",
   "mimetype": "text/x-python",
   "name": "python",
   "nbconvert_exporter": "python",
   "pygments_lexer": "ipython3",
   "version": "3.10.9"
  },
  "orig_nbformat": 4,
  "vscode": {
   "interpreter": {
    "hash": "0adb3f5f654606e41dbdfd3bbda90ddbd940f914bbda17aa2fe6222e3a406da4"
   }
  }
 },
 "nbformat": 4,
 "nbformat_minor": 2
}
