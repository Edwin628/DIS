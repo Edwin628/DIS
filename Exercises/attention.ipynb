{
 "cells": [
  {
   "cell_type": "code",
   "execution_count": 2,
   "metadata": {},
   "outputs": [],
   "source": [
    "import numpy as np"
   ]
  },
  {
   "attachments": {},
   "cell_type": "markdown",
   "metadata": {},
   "source": [
    "### Question1\n",
    "A is 4 * 4 matrix, B is 1 * 4 array, we got 1 * 4 result"
   ]
  },
  {
   "attachments": {},
   "cell_type": "markdown",
   "metadata": {},
   "source": [
    "### Answer\n",
    "Yes, if A is a 4x4 matrix and B is a 1x4 array, performing the matrix multiplication np.matmul(A, B) would result in a 1x4 array. This is because numpy uses broadcasting, allowing the 1x4 array B to be broadcasted to match the shape of the second dimension of the matrix A (4 columns), so that a matrix multiplication can be performed.\n",
    "\n",
    "It's important to note that the number of columns in A must match the number of rows in B in order for the matrix multiplication to be valid. In this case, the number of columns in A is 4, and the number of rows in B is also 4, so the operation can be performed."
   ]
  },
  {
   "cell_type": "code",
   "execution_count": 12,
   "metadata": {},
   "outputs": [
    {
     "name": "stdout",
     "output_type": "stream",
     "text": [
      "(3, 1)\n",
      "(1, 3)\n",
      "(3,)\n",
      "(3,)\n"
     ]
    },
    {
     "data": {
      "text/plain": [
       "array([1, 2, 3])"
      ]
     },
     "execution_count": 12,
     "metadata": {},
     "output_type": "execute_result"
    }
   ],
   "source": [
    "aa = [[1,2],[3,4]]\n",
    "bb =  [1,2]\n",
    "np.dot(aa,bb)\n",
    "np.transpose(np.ones(4))\n",
    "a = np.array([[1], [2], [3]])\n",
    "print(a.shape)\n",
    "a_t = np.transpose(a)\n",
    "print(a_t.shape)\n",
    "a_t\n",
    "\n",
    "b = np.array([1,2,3])\n",
    "print(b.shape)\n",
    "b_t = np.transpose(b)\n",
    "print(b_t.shape)\n",
    "b_t"
   ]
  },
  {
   "cell_type": "code",
   "execution_count": 4,
   "metadata": {},
   "outputs": [
    {
     "name": "stdout",
     "output_type": "stream",
     "text": [
      "[0.9 0.7 0.5 0.4]\n",
      "[[0.9]\n",
      " [0.7]\n",
      " [0.5]\n",
      " [0.4]]\n",
      "[0.3 0.1 0.3 1. ]\n"
     ]
    }
   ],
   "source": [
    "# Brooadcast to array，因为array本身这个就不算矩阵，很模糊\n",
    "AA=np.array([\n",
    "    [0, 1, 1, 1], \n",
    "    [0, 0, 1, 1], \n",
    "    [1, 0, 0, 1],\n",
    "    [0, 0, 0, 1],\n",
    "])\n",
    "aa = [0.1,0.2,0.3,0.4]\n",
    "aaa = [[0.1],[0.2],[0.3],[0.4]]\n",
    "aaaa = [[0.1,0.2,0.3,0.4]]\n",
    "print(np.matmul(AA,aa))\n",
    "print(np.matmul(AA,aaa))\n",
    "print(np.matmul(aa,AA))\n",
    "#print(np.matmul(AA,aaaa)) vaklue error"
   ]
  },
  {
   "attachments": {},
   "cell_type": "markdown",
   "metadata": {},
   "source": [
    "Dot product of two arrays. Specifically,\n",
    "\n",
    "If both a and b are 1-D arrays, it is inner product of vectors (without complex conjugation).\n",
    "\n",
    "If both a and b are 2-D arrays, it is matrix multiplication, but using matmul or a @ b is preferred.\n",
    "\n",
    "If either a or b is 0-D (scalar), it is equivalent to multiply and using numpy.multiply(a, b) or a * b is preferred.\n",
    "\n",
    "If a is an N-D array and b is a 1-D array, it is a sum product over the last axis of a and b.\n",
    "\n",
    "If a is an N-D array and b is an M-D array (where M>=2), it is a sum product over the last axis of a and the second-to-last axis of b:"
   ]
  },
  {
   "attachments": {},
   "cell_type": "markdown",
   "metadata": {},
   "source": [
    "### Question2\n",
    "Array transpose"
   ]
  },
  {
   "cell_type": "code",
   "execution_count": 30,
   "metadata": {},
   "outputs": [
    {
     "name": "stdout",
     "output_type": "stream",
     "text": [
      "(3, 1)\n",
      "(1, 3)\n",
      "(3,)\n",
      "(3,)\n"
     ]
    },
    {
     "data": {
      "text/plain": [
       "array([1, 2, 3])"
      ]
     },
     "execution_count": 30,
     "metadata": {},
     "output_type": "execute_result"
    }
   ],
   "source": [
    "aa = [[1,2],[3,4]]\n",
    "bb =  [1,2]\n",
    "np.dot(aa,bb)\n",
    "np.transpose(np.ones(4))\n",
    "a = np.array([[1], [2], [3]])\n",
    "print(a.shape)\n",
    "a_t = np.transpose(a)\n",
    "print(a_t.shape)\n",
    "a_t\n",
    "\n",
    "b = np.array([1,2,3])\n",
    "print(b.shape)\n",
    "b_t = np.transpose(b)\n",
    "print(b_t.shape)\n",
    "b_t"
   ]
  },
  {
   "attachments": {},
   "cell_type": "markdown",
   "metadata": {},
   "source": [
    "### Question2\n",
    "List Array 的一些操作"
   ]
  },
  {
   "cell_type": "code",
   "execution_count": 34,
   "metadata": {},
   "outputs": [
    {
     "name": "stdout",
     "output_type": "stream",
     "text": [
      "[3, 4]\n",
      "[3, 4]\n",
      "[3 4]\n",
      "[3 4]\n",
      "[3 4]\n",
      "[2]\n"
     ]
    }
   ],
   "source": [
    "aa = [[1,2],[3,4]]\n",
    "\n",
    "print(aa[:][1])\n",
    "print(aa[1])\n",
    "\n",
    "aaa = np.array([[1,2],[3,4]])\n",
    "print(aaa[1])\n",
    "print(aaa[:][1]) # 不会报错，但和上面显示一致\n",
    "print(aaa[:][:][1]) # 不会报错，但和上面显示一致\n",
    "# 说明list是按index从左至右顺序来处理的\n",
    "#print(aaa[:1][1]) # 会报错\n",
    "print(aaa[:1,1]) # 不会报错，实现了切片\n"
   ]
  },
  {
   "attachments": {},
   "cell_type": "markdown",
   "metadata": {},
   "source": [
    "1. multiply是elementwise的操作，等同于 *\n",
    "2. 有多个条件就用while循环\n",
    "3. while记得要给l+1\n",
    "4. tokens是['<pad>','the', '.', ',',]类似列表， text_vocab是{'<pad>':1,'the':2, '.':3, ',':4}这种字典类似\n",
    "5. unqiue返回array\n",
    "6. array 和 matrix的访问, np.matrix和普通的list、array一些不一样: a)L[0][1]不能访问matrix的元素，要用L[0,1]. b)list不能够用L[0,1]只能用L[0][1]. c)array两种都可以用"
   ]
  },
  {
   "cell_type": "markdown",
   "metadata": {},
   "source": []
  },
  {
   "cell_type": "markdown",
   "metadata": {},
   "source": []
  }
 ],
 "metadata": {
  "kernelspec": {
   "display_name": "adaexam",
   "language": "python",
   "name": "python3"
  },
  "language_info": {
   "codemirror_mode": {
    "name": "ipython",
    "version": 3
   },
   "file_extension": ".py",
   "mimetype": "text/x-python",
   "name": "python",
   "nbconvert_exporter": "python",
   "pygments_lexer": "ipython3",
   "version": "3.8.12"
  },
  "orig_nbformat": 4,
  "vscode": {
   "interpreter": {
    "hash": "774b128520448664c0ce54185c50d2053e1a9ce2d7add6cdc69ac19bdaf04756"
   }
  }
 },
 "nbformat": 4,
 "nbformat_minor": 2
}
